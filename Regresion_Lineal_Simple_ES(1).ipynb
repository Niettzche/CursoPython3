{
  "cells": [
    {
      "cell_type": "markdown",
      "metadata": {
        "id": "y17QyNOlVOut"
      },
      "source": [
        "# Regresión lineal simple\n",
        "\n",
        "### Importar paquetes necesarios\n",
        "\n",
        "Para este laboratorio necesitarás los siguientes paquetes:\n",
        "- NumPy  \n",
        "- Matplotlib  \n",
        "- Pandas  \n",
        "- Scikit-learn"
      ],
      "id": "y17QyNOlVOut"
    },
    {
      "cell_type": "code",
      "execution_count": null,
      "metadata": {
        "id": "bbUvyV3oVOuv"
      },
      "outputs": [],
      "source": [
        "!pip install numpy==2.2.0\n",
        "!pip install pandas==2.2.3\n",
        "!pip install scikit-learn==1.6.0\n",
        "!pip install matplotlib==3.9.3"
      ],
      "id": "bbUvyV3oVOuv"
    },
    {
      "cell_type": "markdown",
      "metadata": {
        "id": "tiXF0bFSVOuv"
      },
      "source": [
        "Ahora puedes importar estas bibliotecas."
      ],
      "id": "tiXF0bFSVOuv"
    },
    {
      "cell_type": "code",
      "execution_count": null,
      "metadata": {
        "id": "PqiXjqYGVOuv"
      },
      "outputs": [],
      "source": [
        "import numpy as np\n",
        "import matplotlib.pyplot as plt\n",
        "import pandas as pd\n",
        "%matplotlib inline"
      ],
      "id": "PqiXjqYGVOuv"
    },
    {
      "cell_type": "markdown",
      "metadata": {
        "id": "9yvI0j9RVOuw"
      },
      "source": [
        "## Cargar los datos\n",
        "\n",
        "El conjunto de datos que usarás se encuentra en la siguiente URL."
      ],
      "id": "9yvI0j9RVOuw"
    },
    {
      "cell_type": "code",
      "execution_count": null,
      "metadata": {
        "id": "QDGg8oR_VOuw"
      },
      "outputs": [],
      "source": [
        "url = \"https://cf-courses-data.s3.us.cloud-object-storage.appdomain.cloud/IBMDeveloperSkillsNetwork-ML0101EN-SkillsNetwork/labs/Module%202/data/FuelConsumptionCo2.csv\"\n",
        "df = pd.read_csv(url)\n",
        "\n",
        "# Ver si se cargaron los datos\n",
        "df.sample(5)"
      ],
      "id": "QDGg8oR_VOuw"
    },
    {
      "cell_type": "markdown",
      "metadata": {
        "id": "aZuSACAJVOux"
      },
      "source": [
        "## Entender los datos\n",
        "\n",
        "### `FuelConsumption.csv`:\n",
        "Usarás un conjunto de datos de consumo de combustible, **`FuelConsumption.csv`**, que contiene calificaciones de consumo de combustible específicas por modelo y estimaciones de emisiones de dióxido de carbono para vehículos nuevos de servicio ligero a la venta al público en Canadá. *Fuente del conjunto de datos.*\n",
        "\n",
        "- **MODEL YEAR** e.g. 2014  \n",
        "- **MAKE** e.g. VOLVO  \n",
        "- **MODEL** e.g. S60 AWD  \n",
        "- **VEHICLE CLASS** e.g. COMPACT  \n",
        "- **ENGINE SIZE** e.g. 3.0  \n",
        "- **CYLINDERS** e.g 6  \n",
        "- **TRANSMISSION** e.g. AS6  \n",
        "- **FUEL TYPE** e.g. Z  \n",
        "- **FUEL CONSUMPTION in CITY(L/100 km)** e.g. 13.2  \n",
        "- **FUEL CONSUMPTION in HWY (L/100 km)** e.g. 9.5  \n",
        "- **FUEL CONSUMPTION COMBINED (L/100 km)** e.g. 11.5  \n",
        "- **FUEL CONSUMPTION COMBINED MPG (MPG)** e.g. 25  \n",
        "- **emisiones de CO₂ (g/km)** e.g. 182  \n",
        "\n",
        "Tu tarea será crear un **modelo de regresión lineal simple** a partir de **una** de estas **características** para **predecir las emisiones de CO₂** de autos no observados con base en esa característica."
      ],
      "id": "aZuSACAJVOux"
    },
    {
      "cell_type": "markdown",
      "metadata": {
        "id": "30bVCjh-VOux"
      },
      "source": [
        "### Explorar los datos\n",
        "\n",
        "Primero, considera un **resumen estadístico** de los datos."
      ],
      "id": "30bVCjh-VOux"
    },
    {
      "cell_type": "code",
      "execution_count": null,
      "metadata": {
        "id": "X-eftLQQVOuy"
      },
      "outputs": [],
      "source": [
        "df.describe()"
      ],
      "id": "X-eftLQQVOuy"
    },
    {
      "cell_type": "markdown",
      "metadata": {
        "id": "PGrb7pD8VOuz"
      },
      "source": [
        "A partir de los datos, podemos ver que la mayoría de los autos (aprox. 75%) tienen una eficiencia de combustible entre 11 y 31 MPG. Sin embargo, un auto muestra un valor de 60 MPG, mucho mayor que el resto. Esto podría ser una lectura válida para un vehículo altamente eficiente o híbrido, o podría ser un valor atípico (outlier) o un error de captura de datos.\n",
        "\n",
        "**MODELYEAR** tiene desviación estándar 0, por lo tanto no contiene información relevante."
      ],
      "id": "PGrb7pD8VOuz"
    },
    {
      "cell_type": "markdown",
      "metadata": {
        "id": "rXKFzhmnVOuz"
      },
      "source": [
        "#### Seleccionar características\n",
        "\n",
        "Selecciona algunas características que puedan indicar las emisiones de CO₂ para explorar más."
      ],
      "id": "rXKFzhmnVOuz"
    },
    {
      "cell_type": "code",
      "execution_count": null,
      "metadata": {
        "id": "7ElX1TWAVOuz"
      },
      "outputs": [],
      "source": [
        "cdf = df[['ENGINESIZE','CYLINDERS','FUELCONSUMPTION_COMB','CO2EMISSIONS']]\n",
        "cdf.sample(9)"
      ],
      "id": "7ElX1TWAVOuz"
    },
    {
      "cell_type": "markdown",
      "metadata": {
        "id": "v4RJDQ8IVOuz"
      },
      "source": [
        "#### Visualizar características\n",
        "Considera los histogramas para cada una de estas características.\n",
        "\n",
        "Un histograma es una gráfica que muestra cómo se distribuyen valores numéricos: divide el rango de los datos en intervalos (bins) y dibuja barras cuya altura indica cuántos datos caen en cada intervalo (frecuencia) o qué tan densos son (densidad/proporción)."
      ],
      "id": "v4RJDQ8IVOuz"
    },
    {
      "cell_type": "code",
      "execution_count": null,
      "metadata": {
        "id": "Xjq0c0iUVOuz"
      },
      "outputs": [],
      "source": [
        "viz = cdf[['CYLINDERS','ENGINESIZE','FUELCONSUMPTION_COMB','CO2EMISSIONS']]\n",
        "viz.hist()\n",
        "plt.show()"
      ],
      "id": "Xjq0c0iUVOuz"
    },
    {
      "cell_type": "markdown",
      "metadata": {
        "id": "Pf15R043VOuz"
      },
      "source": [
        "Como puedes ver, la mayoría de los motores tienen 4, 6 u 8 cilindros, y tamaños de motor entre 2 y 4 litros.  \n",
        "Como cabría esperar, el **consumo de combustible combinado** y las **emisiones de CO₂** tienen distribuciones muy similares.  \n",
        "Adelante, muestra algunas **gráficas de dispersión** de estas características contra las **emisiones de CO₂**, para ver qué tan lineales son sus relaciones."
      ],
      "id": "Pf15R043VOuz"
    },
    {
      "cell_type": "code",
      "execution_count": null,
      "metadata": {
        "id": "0OrSWrncVOu0"
      },
      "outputs": [],
      "source": [
        "plt.scatter(cdf.FUELCONSUMPTION_COMB, cdf.CO2EMISSIONS, color='blue')\n",
        "plt.xlabel(\"FUELCONSUMPTION_COMB\")\n",
        "plt.ylabel(\"CO2EMISSIONS\")\n",
        "plt.show()"
      ],
      "id": "0OrSWrncVOu0"
    },
    {
      "cell_type": "markdown",
      "metadata": {
        "id": "PsXfyjZDVOu0"
      },
      "source": [
        "Este es un resultado informativo. Tres grupos de autos presentan una relación lineal fuerte entre su **consumo combinado** y sus **emisiones de CO₂**.  \n",
        "Sus **interceptos** son similares, mientras que sus **pendientes** difieren notablemente."
      ],
      "id": "PsXfyjZDVOu0"
    },
    {
      "cell_type": "code",
      "execution_count": null,
      "metadata": {
        "id": "B9ldksFoVOu0"
      },
      "outputs": [],
      "source": [
        "plt.scatter(cdf.ENGINESIZE, cdf.CO2EMISSIONS, color='blue')\n",
        "plt.xlabel(\"ENGINESIZE\")\n",
        "plt.ylabel(\"CO2EMISSIONS\")\n",
        "plt.xlim(0, 27)\n",
        "plt.show()"
      ],
      "id": "B9ldksFoVOu0"
    },
    {
      "cell_type": "markdown",
      "metadata": {
        "id": "HJ_PwHc5VOu0"
      },
      "source": [
        "#### Ejercicio de práctica 1\n",
        "\n",
        "Grafica **CYLINDERS** contra **CO2EMISSIONS**, para ver qué tan lineal es su relación."
      ],
      "id": "HJ_PwHc5VOu0"
    },
    {
      "cell_type": "code",
      "execution_count": null,
      "metadata": {
        "tags": [
          "exercise"
        ],
        "id": "Kfib8TtEVOu0"
      },
      "outputs": [],
      "source": [
        "# Escribe tu código aquí\n",
        "plt.scatter(cdf.CYLINDERS, cdf.CO2EMISSIONS, color='blue')\n",
        "plt.xlabel(\"CYLINDERS\")\n",
        "plt.ylabel(\"CO2EMISSIONS\")\n",
        "plt.show()"
      ],
      "id": "Kfib8TtEVOu0"
    },
    {
      "cell_type": "markdown",
      "metadata": {
        "id": "f-cY6FqwVOu1"
      },
      "source": [
        "### Extraer la característica de entrada y las etiquetas del conjunto de datos\n",
        "\n",
        "Aunque quizá no sea la elección ideal de característica de entrada, con fines ilustrativos usarás **ENGINESIZE** para predecir **CO2EMISSIONS** con un modelo de **regresión lineal**.  \n",
        "Puedes comenzar extrayendo las variables de entrada (**X**) y de salida (**y**) del conjunto de datos."
      ],
      "id": "f-cY6FqwVOu1"
    },
    {
      "cell_type": "code",
      "execution_count": null,
      "metadata": {
        "id": "0ZxpEYIOVOu2"
      },
      "outputs": [],
      "source": [
        "X = cdf.ENGINESIZE.to_numpy()\n",
        "y = cdf.CO2EMISSIONS.to_numpy()"
      ],
      "id": "0ZxpEYIOVOu2"
    },
    {
      "cell_type": "markdown",
      "metadata": {
        "id": "6qYfRA0LVOu2"
      },
      "source": [
        "#### Crear conjuntos de entrenamiento y prueba\n",
        "\n",
        "A continuación, dividirás el conjunto de datos en grupos **mutuamente exclusivos** de entrenamiento y prueba. Entrenarás un modelo de **regresión lineal simple** con el conjunto de entrenamiento y estimarás su capacidad de generalización usando el conjunto de prueba.\n",
        "\n",
        "Como el resultado verdadero de cada punto del conjunto de prueba es conocido, puedes **evaluar** la precisión *out-of-sample* de tu modelo.\n",
        "\n",
        "Ahora, divide aleatoriamente tus datos en **entrenamiento** y **prueba**, usando 80% para entrenamiento y 20% para prueba. La fracción exacta depende del tamaño de tus datos (típicamente 20–30% para prueba). Cuanto **más pequeño** sea tu conjunto de datos, **más grande** debe ser el conjunto de entrenamiento: en datos pequeños es fácil encontrar patrones espurios. La desventaja es que tu evaluación de generalización tendrá menos confiabilidad. En datos, **más grande suele ser mejor**."
      ],
      "id": "6qYfRA0LVOu2"
    },
    {
      "cell_type": "code",
      "execution_count": null,
      "metadata": {
        "id": "TdvQNmK8VOu2"
      },
      "outputs": [],
      "source": [
        "from sklearn.model_selection import train_test_split\n",
        "\n",
        "X_train, X_test, y_train, y_test = train_test_split(X, y, test_size=0.2, random_state=42)"
      ],
      "id": "TdvQNmK8VOu2"
    },
    {
      "cell_type": "code",
      "execution_count": null,
      "metadata": {
        "id": "yManxRYSVOu2"
      },
      "outputs": [],
      "source": [
        "type(X_train), np.shape(X_train), np.shape(y_train)"
      ],
      "id": "yManxRYSVOu2"
    },
    {
      "cell_type": "markdown",
      "metadata": {
        "id": "KNkKYbQxVOu2"
      },
      "source": [
        "### Construir un modelo de regresión lineal simple\n",
        "\n",
        "Usarás **scikit-learn** para construir el modelo. (Consulta la documentación de *LinearRegression* si deseas más detalles.)"
      ],
      "id": "KNkKYbQxVOu2"
    },
    {
      "cell_type": "code",
      "execution_count": null,
      "metadata": {
        "id": "kCJNXEbZVOu2"
      },
      "outputs": [],
      "source": [
        "from sklearn import linear_model\n",
        "\n",
        "# crear el objeto modelo\n",
        "regressor = linear_model.LinearRegression()\n",
        "\n",
        "# entrenar el modelo (scikit-learn espera entrada 2D: (n_observaciones, n_features))\n",
        "regressor.fit(X_train.reshape(-1, 1), y_train)\n",
        "\n",
        "# imprimir los parámetros\n",
        "print('Coefficients:', regressor.coef_[0])   # en regresión simple hay un solo coeficiente\n",
        "print('Intercept:', regressor.intercept_)"
      ],
      "id": "kCJNXEbZVOu2"
    },
    {
      "cell_type": "markdown",
      "metadata": {
        "id": "wl9JTGenVOu2"
      },
      "source": [
        "Aquí, el **coeficiente** y el **intercepto** son los parámetros de la regresión que determinó el modelo.  \n",
        "Definen la **pendiente** y el **intercepto** de la recta de **mejor ajuste** sobre los datos de entrenamiento."
      ],
      "id": "wl9JTGenVOu2"
    },
    {
      "cell_type": "markdown",
      "metadata": {
        "id": "iC2lTKC4VOu2"
      },
      "source": [
        "### Visualizar las salidas del modelo\n",
        "\n",
        "Puedes visualizar qué tan bien **ajusta** el modelo a los datos de entrenamiento graficando la **recta ajustada** sobre los puntos.\n",
        "\n",
        "El modelo de regresión es la recta:  \n",
        "$$\\hat{y} = \\text{Intercept} + \\text{Coefficient} \\times x$$"
      ],
      "id": "iC2lTKC4VOu2"
    },
    {
      "cell_type": "code",
      "execution_count": null,
      "metadata": {
        "id": "H8gGtT5iVOu3"
      },
      "outputs": [],
      "source": [
        "plt.scatter(X_train, y_train, color='blue')\n",
        "plt.plot(X_train, regressor.coef_ * X_train + regressor.intercept_, '-r')\n",
        "plt.xlabel(\"ENGINESIZE\")\n",
        "plt.ylabel(\"CO2EMISSIONS\")\n",
        "plt.show()"
      ],
      "id": "H8gGtT5iVOu3"
    },
    {
      "cell_type": "markdown",
      "metadata": {
        "id": "rWkIA9SHVOu3"
      },
      "source": [
        "#### Evaluación del modelo\n",
        "\n",
        "Puedes comparar los valores reales y los **predichos** para calcular la precisión de un modelo de regresión. Las **métricas de evaluación** son clave porque indican en qué áreas mejorar.\n",
        "\n",
        "Usaremos **MSE** aquí para evaluar el modelo sobre el conjunto de prueba. (También listamos otras métricas comunes.)\n",
        "\n",
        "- **Mean Absolute Error (MAE):** media del valor absoluto de los errores; fácil de interpretar, es el “error promedio”.  \n",
        "- **Mean Squared Error (MSE):** media del cuadrado del error; es la métrica que el modelo minimiza para encontrar la mejor recta, por eso también se le llama **suma de residuos al cuadrado**.  \n",
        "- **Root Mean Squared Error (RMSE):** la raíz cuadrada del MSE; vuelve a las mismas unidades de la variable objetivo, lo que facilita la interpretación.  \n",
        "- **R2-Score:** no es un error, sino una métrica popular del desempeño; representa qué tan cerca están los puntos a la **recta de regresión** ajustada. El mejor valor es **1.0** y puede ser **negativo**."
      ],
      "id": "rWkIA9SHVOu3"
    },
    {
      "cell_type": "code",
      "execution_count": null,
      "metadata": {
        "id": "c3nZqnGkVOu3"
      },
      "outputs": [],
      "source": [
        "from sklearn.metrics import mean_absolute_error, mean_squared_error, r2_score\n",
        "\n",
        "# predicciones de prueba\n",
        "y_pred = regressor.predict(X_test.reshape(-1, 1))\n",
        "\n",
        "# evaluación\n",
        "print(\"Mean absolute error: %.2f\" % mean_absolute_error(y_test, y_pred))\n",
        "print(\"Mean squared error: %.2f\" % mean_squared_error(y_test, y_pred))\n",
        "print(\"Root mean squared error: %.2f\" % np.sqrt(mean_squared_error(y_test, y_pred)))\n",
        "print(\"R2-score: %.2f\" % r2_score(y_test, y_pred))"
      ],
      "id": "c3nZqnGkVOu3"
    },
    {
      "cell_type": "markdown",
      "metadata": {
        "id": "3lPUIKtLVOu3"
      },
      "source": [
        "## Ejercicios de práctica\n",
        "\n",
        "#### 1. Grafica el resultado del modelo de regresión **sobre los datos de prueba** (en lugar de los de entrenamiento). Evalúa visualmente si el resultado es bueno."
      ],
      "id": "3lPUIKtLVOu3"
    },
    {
      "cell_type": "code",
      "execution_count": null,
      "metadata": {
        "tags": [
          "exercise"
        ],
        "id": "SWwJXUsmVOu4"
      },
      "outputs": [],
      "source": [
        "plt.scatter(...)    # AGREGA CÓDIGO"
      ],
      "id": "SWwJXUsmVOu4"
    },
    {
      "cell_type": "markdown",
      "metadata": {
        "id": "WbcBz53mVOu4"
      },
      "source": [
        "<details><summary>Haz clic aquí para ver la solución</summary>\n",
        "\n",
        "```python\n",
        "plt.scatter(X_test, y_test, color='blue')\n",
        "plt.plot(X_test, regressor.coef_ * X_test + regressor.intercept_, '-r')\n",
        "plt.xlabel(\"ENGINESIZE\")\n",
        "plt.ylabel(\"CO2EMISSIONS\")\n",
        "plt.show()\n",
        "```\n",
        "\n",
        "</details>"
      ],
      "id": "WbcBz53mVOu4"
    },
    {
      "cell_type": "markdown",
      "metadata": {
        "id": "s4H-GeYmVOu4"
      },
      "source": [
        "Ahora veamos las métricas de evaluación si entrenas un modelo usando la característica **FUELCONSUMPTION_COMB**."
      ],
      "id": "s4H-GeYmVOu4"
    },
    {
      "cell_type": "markdown",
      "metadata": {
        "id": "NnMDpLwWVOu4"
      },
      "source": [
        "#### 2. Selecciona la característica de consumo de combustible del DataFrame y divide los datos 80%/20% en entrenamiento y prueba.  \n",
        "Usa el mismo `random_state` que antes para poder comparar objetivamente."
      ],
      "id": "NnMDpLwWVOu4"
    },
    {
      "cell_type": "code",
      "execution_count": null,
      "metadata": {
        "tags": [
          "exercise"
        ],
        "id": "hfahpWgLVOu4"
      },
      "outputs": [],
      "source": [
        "X = # AGREGA CÓDIGO\n",
        "\n",
        "X_train, X_test, y_train, y_test = # AGREGA CÓDIGO"
      ],
      "id": "hfahpWgLVOu4"
    },
    {
      "cell_type": "markdown",
      "metadata": {
        "id": "dXRG_dohVOu4"
      },
      "source": [
        "<details><summary>Haz clic aquí para ver la solución</summary>\n",
        "\n",
        "```python\n",
        "X = cdf.FUELCONSUMPTION_COMB.to_numpy()\n",
        "X_train, X_test, y_train, y_test = train_test_split(X, y, test_size=0.2, random_state=42)\n",
        "```\n",
        "\n",
        "</details>"
      ],
      "id": "dXRG_dohVOu4"
    },
    {
      "cell_type": "markdown",
      "metadata": {
        "id": "BE6nBHrrVOu5"
      },
      "source": [
        "#### 3. Entrena un modelo de regresión lineal usando los datos de entrenamiento que creaste.  \n",
        "Recuerda transformar tu característica 1D a un arreglo 2D."
      ],
      "id": "BE6nBHrrVOu5"
    },
    {
      "cell_type": "code",
      "execution_count": null,
      "metadata": {
        "tags": [
          "exercise"
        ],
        "id": "SIhkuzvqVOu5"
      },
      "outputs": [],
      "source": [
        "regr = linear_model.# AGREGA CÓDIGO\n",
        "\n",
        "# AGREGA CÓDIGO"
      ],
      "id": "SIhkuzvqVOu5"
    },
    {
      "cell_type": "markdown",
      "metadata": {
        "id": "IGLY5vGeVOu5"
      },
      "source": [
        "<details><summary>Haz clic aquí para ver la solución</summary>\n",
        "\n",
        "```python\n",
        "regr = linear_model.LinearRegression()\n",
        "regr.fit(X_train.reshape(-1, 1), y_train)\n",
        "```\n",
        "\n",
        "</details>"
      ],
      "id": "IGLY5vGeVOu5"
    },
    {
      "cell_type": "markdown",
      "metadata": {
        "id": "sv_pwPlQVOu6"
      },
      "source": [
        "#### 4. Usa el modelo para hacer **predicciones de prueba** con los datos de consumo de combustible de prueba."
      ],
      "id": "sv_pwPlQVOu6"
    },
    {
      "cell_type": "code",
      "execution_count": null,
      "metadata": {
        "tags": [
          "exercise"
        ],
        "id": "T8w5-zwqVOu6"
      },
      "outputs": [],
      "source": [
        "y_pred = # AGREGA CÓDIGO"
      ],
      "id": "T8w5-zwqVOu6"
    },
    {
      "cell_type": "markdown",
      "metadata": {
        "id": "9mNmAeoZVOu6"
      },
      "source": [
        "<details><summary>Haz clic aquí para ver la solución</summary>\n",
        "\n",
        "```python\n",
        "y_pred = regr.predict(X_test.reshape(-1, 1))\n",
        "```\n",
        "\n",
        "</details>"
      ],
      "id": "9mNmAeoZVOu6"
    },
    {
      "cell_type": "markdown",
      "metadata": {
        "id": "gMUHnA58VOu6"
      },
      "source": [
        "#### 5. Calcula e imprime el **MSE** de las predicciones en prueba."
      ],
      "id": "gMUHnA58VOu6"
    },
    {
      "cell_type": "code",
      "execution_count": null,
      "metadata": {
        "tags": [
          "exercise"
        ],
        "id": "orW3O4OyVOu7"
      },
      "outputs": [],
      "source": [
        "# AGREGA CÓDIGO"
      ],
      "id": "orW3O4OyVOu7"
    },
    {
      "cell_type": "markdown",
      "metadata": {
        "id": "gZysrftsVOu7"
      },
      "source": [
        "<details><summary>Haz clic aquí para ver la solución</summary>\n",
        "\n",
        "```python\n",
        "from sklearn.metrics import mean_squared_error\n",
        "print(\"Mean squared error: %.2f\" % mean_squared_error(y_test, y_pred))\n",
        "```\n",
        "\n",
        "</details>\n",
        "\n",
        "Como podrías esperar a partir del análisis exploratorio, el **MSE** es menor cuando entrenamos usando **FUELCONSUMPTION_COMB** en lugar de **ENGINESIZE**."
      ],
      "id": "gZysrftsVOu7"
    }
  ],
  "metadata": {
    "kernelspec": {
      "display_name": "Python 3",
      "language": "python",
      "name": "python3"
    },
    "language_info": {
      "name": "python",
      "version": "3.11"
    },
    "colab": {
      "provenance": []
    },
    "created": "2025-10-15T05:25:19.543981Z"
  },
  "nbformat": 4,
  "nbformat_minor": 5
}