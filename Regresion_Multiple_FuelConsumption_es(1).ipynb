{
  "cells": [
    {
      "cell_type": "markdown",
      "metadata": {
        "id": "XZqVNCFzZT9i"
      },
      "source": [
        "# Regresión Lineal Múltiple — Dataset FuelConsumptionCO2\n",
        "\n",
        "Esta notebook explica, paso a paso y en lenguaje claro, cómo construir un modelo de **regresión lineal múltiple** para predecir **emisiones de CO2** usando variables de consumo y motor de un conjunto de datos real del Gobierno de Canadá.\n",
        "\n",
        "Objetivos:\n",
        "- Entender qué es la regresión lineal múltiple y para qué sirve.\n",
        "- Cargar un dataset en línea y seleccionar variables útiles.\n",
        "- Dividir datos en entrenamiento y prueba con `train_test_split` (scikit-learn).\n",
        "- Entrenar un modelo con `LinearRegression` y entender sus coeficientes.\n",
        "- Evaluar el modelo con métricas (R2, MAE, RMSE) y explicar su significado.\n",
        "- Visualizar el **plano de regresión** en 3D y entender visualmente el ajuste.\n"
      ],
      "id": "XZqVNCFzZT9i"
    },
    {
      "cell_type": "markdown",
      "metadata": {
        "id": "gU83HkkcZT9k"
      },
      "source": [
        "## 1. ¿Qué es la regresión lineal múltiple?\n",
        "\n",
        "Es un modelo que relaciona una variable objetivo (en este caso, **CO2EMISSIONS**) con **dos o más** variables explicativas (por ejemplo, **ENGINESIZE** y **FUELCONSUMPTION_COMB**). La idea es encontrar un **plano** (en 3D) o **hiperplano** (si hay más de dos predictores) que se ajuste a los datos de tal forma que las predicciones estén lo más cerca posible de los valores reales.\n",
        "\n",
        "Cómo se entrena: se eligen los parámetros (intercepto y coeficientes) que **minimizan el error cuadrático medio** entre lo observado y lo predicho. Ese procedimiento se conoce como **Mínimos Cuadrados Ordinarios (OLS)**. La cercanía entre el plano y cada punto se mide con el **residuo** (observado menos predicho)."
      ],
      "id": "gU83HkkcZT9k"
    },
    {
      "cell_type": "markdown",
      "metadata": {
        "id": "MgTgp94xZT9l"
      },
      "source": [
        "## 2. Cargar el dataset en línea y explorar\n",
        "\n",
        "Usaremos el archivo `FuelConsumptionCo2.csv`. Este dataset contiene, entre otras, las variables:\n",
        "- ENGINESIZE: tamaño del motor (litros)\n",
        "- FUELCONSUMPTION_COMB: consumo de combustible combinado (L/100km)\n",
        "- CO2EMISSIONS: emisiones de CO2 (g/km)\n",
        "\n",
        "Comenzaremos cargando el archivo y mirando sus primeras filas."
      ],
      "id": "MgTgp94xZT9l"
    },
    {
      "cell_type": "code",
      "execution_count": null,
      "metadata": {
        "id": "PcBDV8lRZT9l"
      },
      "outputs": [],
      "source": [
        "import pandas as pd\n",
        "import numpy as np\n",
        "\n",
        "url = 'https://s3-api.us-geo.objectstorage.softlayer.net/cf-courses-data/CognitiveClass/ML0101ENv3/labs/FuelConsumptionCo2.csv'\n",
        "df = pd.read_csv(url)\n",
        "df.head()"
      ],
      "id": "PcBDV8lRZT9l"
    },
    {
      "cell_type": "markdown",
      "metadata": {
        "id": "35o9jOXwZT9m"
      },
      "source": [
        "Seleccionamos columnas relevantes para el ejemplo. Puedes añadir más predictores (por ejemplo, `CYLINDERS`) y comparar resultados."
      ],
      "id": "35o9jOXwZT9m"
    },
    {
      "cell_type": "code",
      "execution_count": null,
      "metadata": {
        "id": "IjCjkX1_ZT9m"
      },
      "outputs": [],
      "source": [
        "cdf = df[['ENGINESIZE', 'FUELCONSUMPTION_COMB', 'CO2EMISSIONS']].dropna()\n",
        "cdf.describe()"
      ],
      "id": "IjCjkX1_ZT9m"
    },
    {
      "cell_type": "markdown",
      "metadata": {
        "id": "3uT3J0p4ZT9n"
      },
      "source": [
        "## 3. Visualización simple\n",
        "\n",
        "Antes de modelar, siempre es buena idea observar las relaciones básicas. Aquí vamos a graficar **ENGINESIZE** vs **CO2EMISSIONS** y **FUELCONSUMPTION_COMB** vs **CO2EMISSIONS** para tener una idea de su relación."
      ],
      "id": "3uT3J0p4ZT9n"
    },
    {
      "cell_type": "code",
      "execution_count": null,
      "metadata": {
        "id": "lttQOp48ZT9n"
      },
      "outputs": [],
      "source": [
        "import matplotlib.pyplot as plt\n",
        "\n",
        "plt.figure(figsize=(12,5))\n",
        "plt.subplot(1,2,1)\n",
        "plt.scatter(cdf['ENGINESIZE'], cdf['CO2EMISSIONS'])\n",
        "plt.xlabel('ENGINESIZE (L)')\n",
        "plt.ylabel('CO2EMISSIONS (g/km)')\n",
        "plt.title('Motor vs CO2')\n",
        "\n",
        "plt.subplot(1,2,2)\n",
        "plt.scatter(cdf['FUELCONSUMPTION_COMB'], cdf['CO2EMISSIONS'])\n",
        "plt.xlabel('FUELCONSUMPTION_COMB (L/100km)')\n",
        "plt.ylabel('CO2EMISSIONS (g/km)')\n",
        "plt.title('Consumo vs CO2')\n",
        "plt.tight_layout()\n",
        "plt.show()"
      ],
      "id": "lttQOp48ZT9n"
    },
    {
      "cell_type": "markdown",
      "metadata": {
        "id": "cT4XrhDXZT9o"
      },
      "source": [
        "## 4. División en entrenamiento y prueba con `train_test_split`\n",
        "\n",
        "Para evaluar de forma honesta un modelo, separamos los datos en dos partes:\n",
        "- **Entrenamiento**: el modelo aprende los coeficientes.\n",
        "- **Prueba**: el modelo se evalúa en datos que no vio durante el entrenamiento.\n",
        "\n",
        "Usaremos `train_test_split` de scikit-learn, que es la forma recomendada: permite controlar el tamaño del conjunto de prueba, la aleatoriedad y la reproducibilidad con `random_state`.\n"
      ],
      "id": "cT4XrhDXZT9o"
    },
    {
      "cell_type": "code",
      "execution_count": null,
      "metadata": {
        "id": "0m96jUxiZT9p"
      },
      "outputs": [],
      "source": [
        "from sklearn.model_selection import train_test_split\n",
        "\n",
        "X = cdf[['ENGINESIZE', 'FUELCONSUMPTION_COMB']]\n",
        "y = cdf['CO2EMISSIONS']\n",
        "\n",
        "X_train, X_test, y_train, y_test = train_test_split(\n",
        "    X, y,\n",
        "    test_size=0.2,      # 20% para prueba\n",
        "    random_state=42,    # semilla para reproducibilidad\n",
        "    shuffle=True        # mezclar aleatoriamente antes de dividir\n",
        ")\n",
        "\n",
        "len(X_train), len(X_test)"
      ],
      "id": "0m96jUxiZT9p"
    },
    {
      "cell_type": "markdown",
      "metadata": {
        "id": "GsvWzjjZZT9p"
      },
      "source": [
        "## 5. Entrenamiento del modelo con `LinearRegression`\n",
        "\n",
        "Entrenaremos un modelo de regresión lineal múltiple utilizando `LinearRegression`. Este algoritmo calcula el intercepto y los coeficientes que minimizan el error cuadrático medio en el conjunto de entrenamiento."
      ],
      "id": "GsvWzjjZZT9p"
    },
    {
      "cell_type": "code",
      "execution_count": null,
      "metadata": {
        "id": "WWXfhZs-ZT9q"
      },
      "outputs": [],
      "source": [
        "from sklearn.linear_model import LinearRegression\n",
        "\n",
        "modelo = LinearRegression(fit_intercept=True)\n",
        "modelo.fit(X_train, y_train)\n",
        "\n",
        "intercepto = modelo.intercept_\n",
        "coeficientes = modelo.coef_\n",
        "nombres = X_train.columns\n",
        "\n",
        "print('Intercepto (a):', round(intercepto, 3))\n",
        "print('Coeficientes (b):')\n",
        "for nombre, b in zip(nombres, coeficientes):\n",
        "    print(f'  {nombre}: {round(b, 4)}')"
      ],
      "id": "WWXfhZs-ZT9q"
    },
    {
      "cell_type": "markdown",
      "metadata": {
        "id": "Qrq6kSeiZT9q"
      },
      "source": [
        "Cómo interpretar estos números:\n",
        "- El **intercepto** es el valor predicho de CO2EMISSIONS cuando todas las variables son cero (no siempre tiene sentido físico, pero es parte del modelo).\n",
        "- Cada **coeficiente** indica cuánto se espera que cambie CO2EMISSIONS cuando esa variable aumenta una unidad **manteniendo las otras constantes**. Por ejemplo, si el coeficiente de ENGINESIZE es 40, entonces al aumentar 1 litro en el tamaño del motor, se esperarían +40 g/km en emisiones, manteniendo el consumo constante."
      ],
      "id": "Qrq6kSeiZT9q"
    },
    {
      "cell_type": "markdown",
      "metadata": {
        "id": "TXVtYoavZT9q"
      },
      "source": [
        "## 6. Predicción y métricas de evaluación\n",
        "\n",
        "Ahora predecimos en el conjunto de prueba y calculamos métricas:\n",
        "- **R2**: proporción de la variación en el objetivo explicada por el modelo (0 a 1; más alto es mejor).\n",
        "- **MAE**: error absoluto medio (promedio de |observado - predicho|) en unidades de la variable objetivo.\n",
        "- **RMSE**: raíz del error cuadrático medio; es como un \"error típico\" también en unidades del objetivo."
      ],
      "id": "TXVtYoavZT9q"
    },
    {
      "cell_type": "code",
      "execution_count": null,
      "metadata": {
        "id": "lZ9A-eHnZT9q"
      },
      "outputs": [],
      "source": [
        "from sklearn.metrics import r2_score, mean_absolute_error, mean_squared_error\n",
        "import numpy as np\n",
        "\n",
        "y_pred = modelo.predict(X_test)\n",
        "\n",
        "r2 = r2_score(y_test, y_pred)\n",
        "mae = mean_absolute_error(y_test, y_pred)\n",
        "rmse = np.sqrt(mean_squared_error(y_test, y_pred))\n",
        "\n",
        "print(f'R2:  {r2:.3f}')\n",
        "print(f'MAE: {mae:.3f} g/km')\n",
        "print(f'RMSE:{rmse:.3f} g/km')"
      ],
      "id": "lZ9A-eHnZT9q"
    },
    {
      "cell_type": "markdown",
      "metadata": {
        "id": "HForPA3bZT9r"
      },
      "source": [
        "Cómo leer estas métricas:\n",
        "- **R2** cercano a 1 indica que el modelo captura bien la variación del objetivo; cerca de 0 indica que explica poco.\n",
        "- **MAE** y **RMSE** más pequeños indican predicciones más cercanas a los valores reales. RMSE penaliza más los errores grandes que el MAE.\n",
        "\n",
        "Tip: si añades más variables, compara las métricas para ver si el modelo mejora de forma consistente (mejor R2 y menores MAE/RMSE)."
      ],
      "id": "HForPA3bZT9r"
    },
    {
      "cell_type": "markdown",
      "metadata": {
        "id": "guXi6e3YZT9r"
      },
      "source": [
        "## 7. Visualización 3D del plano de regresión\n",
        "\n",
        "Un plano de regresión en 3D ayuda a entender visualmente cómo el modelo combina **ENGINESIZE** y **FUELCONSUMPTION_COMB** para predecir **CO2EMISSIONS**. Los puntos son los datos reales; el plano es lo que predice el modelo. La distancia vertical de cada punto al plano es el **residuo** (observado - predicho). Cuanto más pequeños son esos residuos en promedio, mejor el ajuste."
      ],
      "id": "guXi6e3YZT9r"
    },
    {
      "cell_type": "code",
      "execution_count": null,
      "metadata": {
        "id": "3h4FNpJIZT9r"
      },
      "outputs": [],
      "source": [
        "from mpl_toolkits.mplot3d import Axes3D  # noqa: F401 (necesario para proyección 3D)\n",
        "import matplotlib.pyplot as plt\n",
        "\n",
        "fig = plt.figure(figsize=(9,7))\n",
        "ax = fig.add_subplot(111, projection='3d')\n",
        "\n",
        "ax.scatter(cdf['ENGINESIZE'], cdf['FUELCONSUMPTION_COMB'], cdf['CO2EMISSIONS'])\n",
        "\n",
        "eng_grid, fuel_grid = np.meshgrid(\n",
        "    np.linspace(cdf['ENGINESIZE'].min(), cdf['ENGINESIZE'].max(), 30),\n",
        "    np.linspace(cdf['FUELCONSUMPTION_COMB'].min(), cdf['FUELCONSUMPTION_COMB'].max(), 30)\n",
        ")\n",
        "co2_grid = modelo.intercept_ + modelo.coef_[0]*eng_grid + modelo.coef_[1]*fuel_grid\n",
        "\n",
        "ax.plot_surface(eng_grid, fuel_grid, co2_grid, alpha=0.5)\n",
        "ax.set_xlabel('ENGINESIZE (L)')\n",
        "ax.set_ylabel('FUELCONSUMPTION_COMB (L/100km)')\n",
        "ax.set_zlabel('CO2EMISSIONS (g/km)')\n",
        "ax.set_title('Plano de regresión lineal múltiple')\n",
        "plt.show()"
      ],
      "id": "3h4FNpJIZT9r"
    },
    {
      "cell_type": "markdown",
      "metadata": {
        "id": "nCSZwNBVZT9r"
      },
      "source": [
        "## 8. Conclusiones didácticas\n",
        "\n",
        "- La regresión lineal múltiple encuentra un plano que minimiza la suma de los cuadrados de los residuos.\n",
        "- Los **coeficientes** indican el efecto promedio de cada predictor manteniendo los demás constantes.\n",
        "- Las **métricas** (R2, MAE, RMSE) sirven para evaluar qué tan bien el modelo generaliza a datos nuevos.\n",
        "- La visualización 3D ayuda a comunicar la idea de un plano de ajuste y a identificar posibles patrones no lineales o dispersiones heterogéneas.\n"
      ],
      "id": "nCSZwNBVZT9r"
    }
  ],
  "metadata": {
    "kernelspec": {
      "display_name": "Python 3",
      "language": "python",
      "name": "python3"
    },
    "language_info": {
      "name": "python",
      "version": "3.x"
    },
    "colab": {
      "provenance": []
    }
  },
  "nbformat": 4,
  "nbformat_minor": 5
}